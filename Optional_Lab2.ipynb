{
  "nbformat": 4,
  "nbformat_minor": 0,
  "metadata": {
    "colab": {
      "provenance": [],
      "authorship_tag": "ABX9TyPXEGs43H+XIfuQrg56qB2n",
      "include_colab_link": true
    },
    "kernelspec": {
      "name": "python3",
      "display_name": "Python 3"
    },
    "language_info": {
      "name": "python"
    }
  },
  "cells": [
    {
      "cell_type": "markdown",
      "metadata": {
        "id": "view-in-github",
        "colab_type": "text"
      },
      "source": [
        "<a href=\"https://colab.research.google.com/github/doanane/-_-/blob/main/Optional_Lab2.ipynb\" target=\"_parent\"><img src=\"https://colab.research.google.com/assets/colab-badge.svg\" alt=\"Open In Colab\"/></a>"
      ]
    },
    {
      "cell_type": "markdown",
      "source": [
        "# Optional Lab: Python, NumPy and Vectorization\n",
        "A brief introduction to some of the scientific computing used in this course. In particular the NumPy scientific computing package and its use with python.\n",
        "\n",
        "# Outline\n",
        "- [&nbsp;&nbsp;1.1 Goals](#toc_40015_1.1)\n",
        "- [&nbsp;&nbsp;1.2 Useful References](#toc_40015_1.2)\n",
        "- [2 Python and NumPy <a name='Python and NumPy'></a>](#toc_40015_2)\n",
        "- [3 Vectors](#toc_40015_3)\n",
        "- [&nbsp;&nbsp;3.1 Abstract](#toc_40015_3.1)\n",
        "- [&nbsp;&nbsp;3.2 NumPy Arrays](#toc_40015_3.2)\n",
        "- [&nbsp;&nbsp;3.3 Vector Creation](#toc_40015_3.3)\n",
        "- [&nbsp;&nbsp;3.4 Operations on Vectors](#toc_40015_3.4)\n",
        "- [4 Matrices](#toc_40015_4)\n",
        "- [&nbsp;&nbsp;4.1 Abstract](#toc_40015_4.1)\n",
        "- [&nbsp;&nbsp;4.2 NumPy Arrays](#toc_40015_4.2)\n",
        "- [&nbsp;&nbsp;4.3 Matrix Creation](#toc_40015_4.3)\n",
        "- [&nbsp;&nbsp;4.4 Operations on Matrices](#toc_40015_4.4)\n"
      ],
      "metadata": {
        "id": "0hO0VwYLuEOj"
      }
    },
    {
      "cell_type": "code",
      "execution_count": 2,
      "metadata": {
        "id": "7bWd_ZS1YMmX"
      },
      "outputs": [],
      "source": [
        "import numpy as np    # it is an unofficial standard to use np for numpy\n",
        "import time"
      ]
    },
    {
      "cell_type": "markdown",
      "source": [
        "<a name=\"toc_40015_1.1\"></a>\n",
        "## 1.1 Goals\n",
        "In this lab, you will:\n",
        "- Review the features of NumPy and Python that are used in Course 1"
      ],
      "metadata": {
        "id": "rCa0nb0nunge"
      }
    },
    {
      "cell_type": "markdown",
      "source": [
        "<a name=\"toc_40015_1.1\"></a>\n",
        "## 1.1 Goals\n",
        "In this lab, you will:\n",
        "- Review the features of NumPy and Python that are used in Course 1"
      ],
      "metadata": {
        "id": "c8Bt45ESu_PC"
      }
    },
    {
      "cell_type": "markdown",
      "source": [
        "<a name=\"toc_40015_2\"></a>\n",
        "# 2 Python and NumPy <a name='Python and NumPy'></a>\n",
        "Python is the programming language we will be using in this course. It has a set of numeric data types and arithmetic operations. NumPy is a library that extends the base capabilities of python to add a richer data set including more numeric types, vectors, matrices, and many matrix functions. NumPy and python  work together fairly seamlessly. Python arithmetic operators work on NumPy data types and many NumPy functions will accept python data types.\n"
      ],
      "metadata": {
        "id": "N51DbflAvTa6"
      }
    },
    {
      "cell_type": "markdown",
      "source": [
        "<a name=\"toc_40015_3\"></a>\n",
        "# 3 Vectors\n",
        "<a name=\"toc_40015_3.1\"></a>\n",
        "## 3.1 Abstract\n",
        "Vectors, as you will use them in this course, are ordered arrays of numbers. In notation, vectors are denoted with lower case bold letters such as $\\mathbf{x}$.  The elements of a vector are all the same type. A vector does not, for example, contain both characters and numbers.\n",
        "![C1_W2_Lab04_Vectors.png](data:image/png;base64,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)\n",
        " The number of elements in the array is often referred to as the *dimension* though mathematicians may prefer *rank*. The vector shown has a dimension of $n$. The elements of a vector can be referenced with an index. In math settings, indexes typically run from 1 to n. In computer science and these labs, indexing will typically run from 0 to n-1.  In notation, elements of a vector, when referenced individually will indicate the index in a subscript, for example, the $0^{th}$ element, of the vector $\\mathbf{x}$ is $x_0$. Note, the x is not bold in this case.  \n"
      ],
      "metadata": {
        "id": "tn11S1YsvecX"
      }
    },
    {
      "cell_type": "markdown",
      "source": [
        "<a name=\"toc_40015_3.2\"></a>\n",
        "## 3.2 NumPy Arrays\n",
        "\n",
        "NumPy's basic data structure is an indexable, n-dimensional *array* containing elements of the same type (`dtype`). Right away, you may notice we have overloaded the term 'dimension'. Above, it was the number of elements in the vector, here, dimension refers to the number of indexes of an array. A one-dimensional or 1-D array has one index. In Course 1, we will represent vectors as NumPy 1-D arrays.\n",
        "\n",
        " - 1-D array, shape (n,): n elements indexed [0] through [n-1]\n",
        ""
      ],
      "metadata": {
        "id": "in_ffs6Fxvhe"
      }
    },
    {
      "cell_type": "markdown",
      "source": [
        "<a name=\"toc_40015_3.3\"></a>\n",
        "## 3.3 Vector Creation\n"
      ],
      "metadata": {
        "id": "R94D-x9fy-LN"
      }
    },
    {
      "cell_type": "markdown",
      "source": [
        "Data creation routines in NumPy will generally have a first parameter which is the shape of the object. This can either be a single value for a 1-D result or a tuple (n,m,...) specifying the shape of the result. Below are examples of creating vectors using these routines."
      ],
      "metadata": {
        "id": "scGGrk0VzCZU"
      }
    },
    {
      "cell_type": "code",
      "source": [
        "# NumPy routines which allocate memory and fill arrays with value\n",
        "a = np.zeros(4);                print(f\"np.zeros(4) :   a = {a}, a shape = {a.shape}, a data type = {a.dtype}\")\n",
        "a = np.zeros((4,));             print(f\"np.zeros(4,) :  a = {a}, a shape = {a.shape}, a data type = {a.dtype}\")\n",
        "a = np.random.random_sample(4); print(f\"np.random.random_sample(4): a = {a}, a shape = {a.shape}, a data type = {a.dtype}\")"
      ],
      "metadata": {
        "colab": {
          "base_uri": "https://localhost:8080/"
        },
        "id": "SYYZKgeduByC",
        "outputId": "ac299c02-885a-4da3-94ff-2f52b9c6a8b6"
      },
      "execution_count": 4,
      "outputs": [
        {
          "output_type": "stream",
          "name": "stdout",
          "text": [
            "np.zeros(4) :   a = [0. 0. 0. 0.], a shape = (4,), a data type = float64\n",
            "np.zeros(4,) :  a = [0. 0. 0. 0.], a shape = (4,), a data type = float64\n",
            "np.random.random_sample(4): a = [0.73654798 0.40484632 0.31104292 0.65867746], a shape = (4,), a data type = float64\n"
          ]
        }
      ]
    },
    {
      "cell_type": "code",
      "source": [
        "# NumPy routines which allocate memory and fill with user specified values\n",
        "a = np.array([5,4,3,2]);  print(f\"np.array([5,4,3,2]):  a = {a},     a shape = {a.shape}, a data type = {a.dtype}\")\n",
        "a = np.array([5.,4,3,2]); print(f\"np.array([5.,4,3,2]): a = {a}, a shape = {a.shape}, a data type = {a.dtype}\")"
      ],
      "metadata": {
        "colab": {
          "base_uri": "https://localhost:8080/"
        },
        "id": "qNIODj-Cu8r9",
        "outputId": "ea9e3d63-3870-4772-b9ef-b47fbc5ce24a"
      },
      "execution_count": 5,
      "outputs": [
        {
          "output_type": "stream",
          "name": "stdout",
          "text": [
            "np.array([5,4,3,2]):  a = [5 4 3 2],     a shape = (4,), a data type = int64\n",
            "np.array([5.,4,3,2]): a = [5. 4. 3. 2.], a shape = (4,), a data type = float64\n"
          ]
        }
      ]
    },
    {
      "cell_type": "markdown",
      "source": [
        "<a name=\"toc_40015_4.4.1\"></a>\n",
        "### 4.4.1 Indexing\n",
        "Matrices include a second index. The two indexes describe [row, column]. Access can either return an element or a row/column. See below:\n"
      ],
      "metadata": {
        "id": "yjLFyBZm2Wa4"
      }
    },
    {
      "cell_type": "code",
      "source": [
        "#vector indexing operations on matrices\n",
        "a = np.arange(6).reshape(-1, 2)   #reshape is a convenient way to create matrices\n",
        "print(f\"a.shape: {a.shape}, \\na= {a}\")\n",
        "\n",
        "#access an element\n",
        "print(f\"\\na[2,0].shape:   {a[2, 0].shape}, a[2,0] = {a[2, 0]},     type(a[2,0]) = {type(a[2, 0])} Accessing an element returns a scalar\\n\")\n",
        "\n",
        "#access a row\n",
        "print(f\"a[2].shape:   {a[2].shape}, a[2]   = {a[2]}, type(a[2])   = {type(a[2])}\")\n"
      ],
      "metadata": {
        "colab": {
          "base_uri": "https://localhost:8080/"
        },
        "id": "saBbvOlC1d2-",
        "outputId": "1b89dc86-7e87-4573-eb82-d54c96f75f2f"
      },
      "execution_count": 6,
      "outputs": [
        {
          "output_type": "stream",
          "name": "stdout",
          "text": [
            "a.shape: (3, 2), \n",
            "a= [[0 1]\n",
            " [2 3]\n",
            " [4 5]]\n",
            "\n",
            "a[2,0].shape:   (), a[2,0] = 4,     type(a[2,0]) = <class 'numpy.int64'> Accessing an element returns a scalar\n",
            "\n",
            "a[2].shape:   (2,), a[2]   = [4 5], type(a[2])   = <class 'numpy.ndarray'>\n"
          ]
        }
      ]
    },
    {
      "cell_type": "markdown",
      "source": [
        "<a name=\"toc_40015_4.4.2\"></a>\n",
        "### 4.4.2 Slicing\n",
        "Slicing creates an array of indices using a set of three values (`start:stop:step`). A subset of values is also valid. Its use is best explained by example:"
      ],
      "metadata": {
        "id": "X_Tygv5l3EF1"
      }
    },
    {
      "cell_type": "code",
      "source": [
        "#vector 2-D slicing operations\n",
        "a = np.arange(20).reshape(-1, 10)\n",
        "print(f\"a = \\n{a}\")\n",
        "\n",
        "#access 5 consecutive elements (start:stop:step)\n",
        "print(\"a[0, 2:7:1] = \", a[0, 2:7:1], \",  a[0, 2:7:1].shape =\", a[0, 2:7:1].shape, \"a 1-D array\")\n",
        "\n",
        "#access 5 consecutive elements (start:stop:step) in two rows\n",
        "print(\"a[:, 2:7:1] = \\n\", a[:, 2:7:1], \",  a[:, 2:7:1].shape =\", a[:, 2:7:1].shape, \"a 2-D array\")\n",
        "\n",
        "# access all elements\n",
        "print(\"a[:,:] = \\n\", a[:,:], \",  a[:,:].shape =\", a[:,:].shape)\n",
        "\n",
        "# access all elements in one row (very common usage)\n",
        "print(\"a[1,:] = \", a[1,:], \",  a[1,:].shape =\", a[1,:].shape, \"a 1-D array\")\n",
        "# same as\n",
        "print(\"a[1]   = \", a[1],   \",  a[1].shape   =\", a[1].shape, \"a 1-D array\")\n"
      ],
      "metadata": {
        "colab": {
          "base_uri": "https://localhost:8080/"
        },
        "id": "XjCAYpz-2sPF",
        "outputId": "d7a77f76-a6f7-4221-a9dc-ea796735aff7"
      },
      "execution_count": 8,
      "outputs": [
        {
          "output_type": "stream",
          "name": "stdout",
          "text": [
            "a = \n",
            "[[ 0  1  2  3  4  5  6  7  8  9]\n",
            " [10 11 12 13 14 15 16 17 18 19]]\n",
            "a[0, 2:7:1] =  [2 3 4 5 6] ,  a[0, 2:7:1].shape = (5,) a 1-D array\n",
            "a[:, 2:7:1] = \n",
            " [[ 2  3  4  5  6]\n",
            " [12 13 14 15 16]] ,  a[:, 2:7:1].shape = (2, 5) a 2-D array\n",
            "a[:,:] = \n",
            " [[ 0  1  2  3  4  5  6  7  8  9]\n",
            " [10 11 12 13 14 15 16 17 18 19]] ,  a[:,:].shape = (2, 10)\n",
            "a[1,:] =  [10 11 12 13 14 15 16 17 18 19] ,  a[1,:].shape = (10,) a 1-D array\n",
            "a[1]   =  [10 11 12 13 14 15 16 17 18 19] ,  a[1].shape   = (10,) a 1-D array\n"
          ]
        }
      ]
    },
    {
      "cell_type": "code",
      "source": [],
      "metadata": {
        "id": "KBJO2Yw13HHP"
      },
      "execution_count": null,
      "outputs": []
    }
  ]
}